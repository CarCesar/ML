{
 "cells": [
  {
   "cell_type": "markdown",
   "id": "c631af72",
   "metadata": {},
   "source": [
    "# Trabalho A2 - ML\n",
    "\n",
    "Carlos César de O. Fonseca"
   ]
  },
  {
   "cell_type": "code",
   "execution_count": 1,
   "id": "8ae688b1",
   "metadata": {},
   "outputs": [],
   "source": [
    "import pandas as pd\n",
    "import matplotlib.pyplot as plt\n",
    "import numpy as np\n",
    "from funcoes import evalu"
   ]
  },
  {
   "cell_type": "markdown",
   "id": "3fca4119",
   "metadata": {},
   "source": [
    "## Contextualizando\n",
    "\n",
    "O meu trabalho é sobre Dados que foram coletados apartir de uma imagem digitalizada de um aspirado por agulha fina (PAAF) de uma massa mamária. Eles descrevem características dos núcleos celulares presentes na imagem.\n",
    "\n",
    "Apartir dai, temos vários dados quantitativos que representam algumas coisas e temos uma coluna de dados qualitativa, os dados do Diagnostico. Esses dados a principio era uma coluna de B's e M's, onde B significava Benigno, enquanto M significava Maligno. Porém para rodar os modelos e desenvolver uma forma de avaliar se o tumor é benigno ou maligno dado apenas os dados quantitativos da interpretação da imagem.\n",
    "\n",
    "O objetivo ao fazer a analise dos dados era prever prever os malignos como malignos e os benignos como benignos ou seja a métrica de interesse era a acurácia.\n",
    "\n",
    "Antes de falar de acurácia, vamos definir algumas coisas:\n",
    "+ $VP$ (Verdadeiro positivo) será quando o modelo prever $M$ e target for $M$\n",
    "+ $FP$ (Falso Positivo) será quando o modelo prever $M$ porém o target é $B$ \n",
    "+ $FN$ (Falso Negativo) será quando o modelo prever $B$ enquanto o real é $M$\n",
    "+ $VN$ (Verdadeiro Negativo) será quando o modelo prever $B$ e realmente for $B$\n",
    "\n",
    "Portanto a acurácia seria:\n",
    "$$Acuracia = \\frac{VP+VN}{VP+FP+FN+VN}$$\n",
    "Esse valor é legal de ser analisado e também diz bastante sobre a quantidade de acertos que o modelo tem. Porém, acho que seria bom analisar outras métricas como Precisão e Recall.\n",
    "$$PrecisãoM = \\frac{VP}{VP+FP}$$\n",
    "\n",
    "$$RecallM = \\frac{VP}{VP+FN}$$\n",
    "\n",
    "Acho que dados os meus dados é tão importante observar o Recall de Malignos, quanto analisar a Acurácia. Os meus dados tem  357 benignos enquanto tem 212 malignos como target, acho que não é um problema para predizer, porém é necessário ter cuidado na hora de analisar os resultados, pois os dados cerca de $\\frac{3}{5}$ são Benignos enquanto apenas cerca $\\frac{2}{5}$ são malignos, tem um desbalanciamento, porém não é tão grande e acredito que apenas tomando cuidado com as medidas de avaliação seja possível desenvolver o melhor modelo. Além disso, acho importante analisar o Recall dos Malignos, pois a previsão de Falsos Negativos é mais negativo que os Falsos Positivos, $FP$ acarretam alguns danos como uma ansiedade, preocupação das pessoas que foram diagnosticadas e da família dela, porém o $FN$ pode ser pior, a pessoa em questão acredita que o tumor é benigno e para o tratamento, levando em um aumento da doença e numa menor chance de cura, possivelmente levando a óbito."
   ]
  },
  {
   "cell_type": "markdown",
   "id": "e21d83b4",
   "metadata": {},
   "source": [
    "## Resumo dos Passos...\n",
    "\n",
    "- Ler os dados\n",
    "    - Trocar M por 1 e B por 0 na variável diagnostico\n",
    "- Separar os dados entre treino e teste\n",
    "- Testar alguns modelos com os dados\n",
    "- Escolher o melhor modelo e chegar a uma conclusão"
   ]
  },
  {
   "cell_type": "markdown",
   "id": "4e900b1c",
   "metadata": {},
   "source": [
    "## Leitura dos Dados\n",
    "\n",
    "Aqui abrimos os dados que já utilizamos no trabalho 1 e convertemos B para 0 e M para 1:"
   ]
  },
  {
   "cell_type": "code",
   "execution_count": 2,
   "id": "b01b68cb",
   "metadata": {},
   "outputs": [
    {
     "name": "stdout",
     "output_type": "stream",
     "text": [
      "<class 'pandas.core.frame.DataFrame'>\n",
      "RangeIndex: 569 entries, 0 to 568\n",
      "Data columns (total 12 columns):\n",
      " #   Column                  Non-Null Count  Dtype  \n",
      "---  ------                  --------------  -----  \n",
      " 0   id                      569 non-null    int64  \n",
      " 1   diagnosis               569 non-null    int64  \n",
      " 2   radius_mean             569 non-null    float64\n",
      " 3   texture_mean            569 non-null    float64\n",
      " 4   perimeter_mean          569 non-null    float64\n",
      " 5   area_mean               569 non-null    float64\n",
      " 6   smoothness_mean         569 non-null    float64\n",
      " 7   compactness_mean        569 non-null    float64\n",
      " 8   concavity_mean          569 non-null    float64\n",
      " 9   concave points_mean     569 non-null    float64\n",
      " 10  symmetry_mean           569 non-null    float64\n",
      " 11  fractal_dimension_mean  569 non-null    float64\n",
      "dtypes: float64(10), int64(2)\n",
      "memory usage: 53.5 KB\n"
     ]
    }
   ],
   "source": [
    "df2 = pd.read_csv('cancer.csv')\n",
    "df2['diagnosis'] = df2['diagnosis'].replace('M', 1)\n",
    "df2['diagnosis'] = df2['diagnosis'].replace('B', 0)\n",
    "df2.diagnosis.astype('int64')\n",
    "df2.info()"
   ]
  },
  {
   "cell_type": "markdown",
   "id": "792047b1",
   "metadata": {},
   "source": [
    "Observando os valores que usaremos para prever, ou seja, o X:"
   ]
  },
  {
   "cell_type": "code",
   "execution_count": 3,
   "id": "00906298",
   "metadata": {},
   "outputs": [
    {
     "data": {
      "text/html": [
       "<div>\n",
       "<style scoped>\n",
       "    .dataframe tbody tr th:only-of-type {\n",
       "        vertical-align: middle;\n",
       "    }\n",
       "\n",
       "    .dataframe tbody tr th {\n",
       "        vertical-align: top;\n",
       "    }\n",
       "\n",
       "    .dataframe thead th {\n",
       "        text-align: right;\n",
       "    }\n",
       "</style>\n",
       "<table border=\"1\" class=\"dataframe\">\n",
       "  <thead>\n",
       "    <tr style=\"text-align: right;\">\n",
       "      <th></th>\n",
       "      <th>radius_mean</th>\n",
       "      <th>texture_mean</th>\n",
       "      <th>perimeter_mean</th>\n",
       "      <th>area_mean</th>\n",
       "      <th>smoothness_mean</th>\n",
       "      <th>compactness_mean</th>\n",
       "      <th>concavity_mean</th>\n",
       "      <th>concave points_mean</th>\n",
       "      <th>symmetry_mean</th>\n",
       "      <th>fractal_dimension_mean</th>\n",
       "    </tr>\n",
       "  </thead>\n",
       "  <tbody>\n",
       "    <tr>\n",
       "      <th>0</th>\n",
       "      <td>17.99</td>\n",
       "      <td>10.38</td>\n",
       "      <td>122.80</td>\n",
       "      <td>1001.0</td>\n",
       "      <td>0.11840</td>\n",
       "      <td>0.27760</td>\n",
       "      <td>0.30010</td>\n",
       "      <td>0.14710</td>\n",
       "      <td>0.2419</td>\n",
       "      <td>0.07871</td>\n",
       "    </tr>\n",
       "    <tr>\n",
       "      <th>1</th>\n",
       "      <td>20.57</td>\n",
       "      <td>17.77</td>\n",
       "      <td>132.90</td>\n",
       "      <td>1326.0</td>\n",
       "      <td>0.08474</td>\n",
       "      <td>0.07864</td>\n",
       "      <td>0.08690</td>\n",
       "      <td>0.07017</td>\n",
       "      <td>0.1812</td>\n",
       "      <td>0.05667</td>\n",
       "    </tr>\n",
       "    <tr>\n",
       "      <th>2</th>\n",
       "      <td>19.69</td>\n",
       "      <td>21.25</td>\n",
       "      <td>130.00</td>\n",
       "      <td>1203.0</td>\n",
       "      <td>0.10960</td>\n",
       "      <td>0.15990</td>\n",
       "      <td>0.19740</td>\n",
       "      <td>0.12790</td>\n",
       "      <td>0.2069</td>\n",
       "      <td>0.05999</td>\n",
       "    </tr>\n",
       "    <tr>\n",
       "      <th>3</th>\n",
       "      <td>11.42</td>\n",
       "      <td>20.38</td>\n",
       "      <td>77.58</td>\n",
       "      <td>386.1</td>\n",
       "      <td>0.14250</td>\n",
       "      <td>0.28390</td>\n",
       "      <td>0.24140</td>\n",
       "      <td>0.10520</td>\n",
       "      <td>0.2597</td>\n",
       "      <td>0.09744</td>\n",
       "    </tr>\n",
       "    <tr>\n",
       "      <th>4</th>\n",
       "      <td>20.29</td>\n",
       "      <td>14.34</td>\n",
       "      <td>135.10</td>\n",
       "      <td>1297.0</td>\n",
       "      <td>0.10030</td>\n",
       "      <td>0.13280</td>\n",
       "      <td>0.19800</td>\n",
       "      <td>0.10430</td>\n",
       "      <td>0.1809</td>\n",
       "      <td>0.05883</td>\n",
       "    </tr>\n",
       "    <tr>\n",
       "      <th>...</th>\n",
       "      <td>...</td>\n",
       "      <td>...</td>\n",
       "      <td>...</td>\n",
       "      <td>...</td>\n",
       "      <td>...</td>\n",
       "      <td>...</td>\n",
       "      <td>...</td>\n",
       "      <td>...</td>\n",
       "      <td>...</td>\n",
       "      <td>...</td>\n",
       "    </tr>\n",
       "    <tr>\n",
       "      <th>564</th>\n",
       "      <td>21.56</td>\n",
       "      <td>22.39</td>\n",
       "      <td>142.00</td>\n",
       "      <td>1479.0</td>\n",
       "      <td>0.11100</td>\n",
       "      <td>0.11590</td>\n",
       "      <td>0.24390</td>\n",
       "      <td>0.13890</td>\n",
       "      <td>0.1726</td>\n",
       "      <td>0.05623</td>\n",
       "    </tr>\n",
       "    <tr>\n",
       "      <th>565</th>\n",
       "      <td>20.13</td>\n",
       "      <td>28.25</td>\n",
       "      <td>131.20</td>\n",
       "      <td>1261.0</td>\n",
       "      <td>0.09780</td>\n",
       "      <td>0.10340</td>\n",
       "      <td>0.14400</td>\n",
       "      <td>0.09791</td>\n",
       "      <td>0.1752</td>\n",
       "      <td>0.05533</td>\n",
       "    </tr>\n",
       "    <tr>\n",
       "      <th>566</th>\n",
       "      <td>16.60</td>\n",
       "      <td>28.08</td>\n",
       "      <td>108.30</td>\n",
       "      <td>858.1</td>\n",
       "      <td>0.08455</td>\n",
       "      <td>0.10230</td>\n",
       "      <td>0.09251</td>\n",
       "      <td>0.05302</td>\n",
       "      <td>0.1590</td>\n",
       "      <td>0.05648</td>\n",
       "    </tr>\n",
       "    <tr>\n",
       "      <th>567</th>\n",
       "      <td>20.60</td>\n",
       "      <td>29.33</td>\n",
       "      <td>140.10</td>\n",
       "      <td>1265.0</td>\n",
       "      <td>0.11780</td>\n",
       "      <td>0.27700</td>\n",
       "      <td>0.35140</td>\n",
       "      <td>0.15200</td>\n",
       "      <td>0.2397</td>\n",
       "      <td>0.07016</td>\n",
       "    </tr>\n",
       "    <tr>\n",
       "      <th>568</th>\n",
       "      <td>7.76</td>\n",
       "      <td>24.54</td>\n",
       "      <td>47.92</td>\n",
       "      <td>181.0</td>\n",
       "      <td>0.05263</td>\n",
       "      <td>0.04362</td>\n",
       "      <td>0.00000</td>\n",
       "      <td>0.00000</td>\n",
       "      <td>0.1587</td>\n",
       "      <td>0.05884</td>\n",
       "    </tr>\n",
       "  </tbody>\n",
       "</table>\n",
       "<p>569 rows × 10 columns</p>\n",
       "</div>"
      ],
      "text/plain": [
       "     radius_mean  texture_mean  perimeter_mean  area_mean  smoothness_mean  \\\n",
       "0          17.99         10.38          122.80     1001.0          0.11840   \n",
       "1          20.57         17.77          132.90     1326.0          0.08474   \n",
       "2          19.69         21.25          130.00     1203.0          0.10960   \n",
       "3          11.42         20.38           77.58      386.1          0.14250   \n",
       "4          20.29         14.34          135.10     1297.0          0.10030   \n",
       "..           ...           ...             ...        ...              ...   \n",
       "564        21.56         22.39          142.00     1479.0          0.11100   \n",
       "565        20.13         28.25          131.20     1261.0          0.09780   \n",
       "566        16.60         28.08          108.30      858.1          0.08455   \n",
       "567        20.60         29.33          140.10     1265.0          0.11780   \n",
       "568         7.76         24.54           47.92      181.0          0.05263   \n",
       "\n",
       "     compactness_mean  concavity_mean  concave points_mean  symmetry_mean  \\\n",
       "0             0.27760         0.30010              0.14710         0.2419   \n",
       "1             0.07864         0.08690              0.07017         0.1812   \n",
       "2             0.15990         0.19740              0.12790         0.2069   \n",
       "3             0.28390         0.24140              0.10520         0.2597   \n",
       "4             0.13280         0.19800              0.10430         0.1809   \n",
       "..                ...             ...                  ...            ...   \n",
       "564           0.11590         0.24390              0.13890         0.1726   \n",
       "565           0.10340         0.14400              0.09791         0.1752   \n",
       "566           0.10230         0.09251              0.05302         0.1590   \n",
       "567           0.27700         0.35140              0.15200         0.2397   \n",
       "568           0.04362         0.00000              0.00000         0.1587   \n",
       "\n",
       "     fractal_dimension_mean  \n",
       "0                   0.07871  \n",
       "1                   0.05667  \n",
       "2                   0.05999  \n",
       "3                   0.09744  \n",
       "4                   0.05883  \n",
       "..                      ...  \n",
       "564                 0.05623  \n",
       "565                 0.05533  \n",
       "566                 0.05648  \n",
       "567                 0.07016  \n",
       "568                 0.05884  \n",
       "\n",
       "[569 rows x 10 columns]"
      ]
     },
     "execution_count": 3,
     "metadata": {},
     "output_type": "execute_result"
    }
   ],
   "source": [
    "df2.iloc[:,2:]"
   ]
  },
  {
   "cell_type": "markdown",
   "id": "e20abee9",
   "metadata": {},
   "source": [
    "Os dados qualitativos do diagnostico, ou seja, o y:"
   ]
  },
  {
   "cell_type": "code",
   "execution_count": 4,
   "id": "d351f552",
   "metadata": {},
   "outputs": [
    {
     "data": {
      "text/plain": [
       "0      1\n",
       "1      1\n",
       "2      1\n",
       "3      1\n",
       "4      1\n",
       "      ..\n",
       "564    1\n",
       "565    1\n",
       "566    1\n",
       "567    1\n",
       "568    0\n",
       "Name: diagnosis, Length: 569, dtype: int64"
      ]
     },
     "execution_count": 4,
     "metadata": {},
     "output_type": "execute_result"
    }
   ],
   "source": [
    "df2.iloc[:,1]"
   ]
  },
  {
   "cell_type": "markdown",
   "id": "56851bc2",
   "metadata": {},
   "source": [
    "## Treino e Teste\n",
    "\n",
    "Pegando o $X$ e o $y$ e separando $70%$ dos dados para treinar os modelos, enquanto os outros $30%$ estão destinados para testar o modelo e nós dizer uma métrica.   "
   ]
  },
  {
   "cell_type": "code",
   "execution_count": 5,
   "id": "aa32c4d0",
   "metadata": {},
   "outputs": [],
   "source": [
    "from sklearn import model_selection\n",
    "\n",
    "X_train, X_test, y_train, y_test = model_selection.train_test_split(df2.iloc[:,2:],\n",
    "                                                                    df2.iloc[:,1], \n",
    "                                                                    test_size=0.3, \n",
    "                                                                    random_state=0)\n"
   ]
  },
  {
   "cell_type": "code",
   "execution_count": 6,
   "id": "32f98c4e",
   "metadata": {},
   "outputs": [],
   "source": [
    "resultados = pd.DataFrame(columns=(['modelo','acuracia','recall']))"
   ]
  },
  {
   "cell_type": "markdown",
   "id": "31cf7f64",
   "metadata": {},
   "source": [
    "## Testar Modelos\n",
    "\n",
    "Para efeito de organização e tempo de execução para organizar este arquivo vou deixar o Grid Search apenas para o modelo KNN, porém foi usado para encontrar os melhores parametros para todos os modelos.\n",
    "\n",
    "### Naive Bayes\n"
   ]
  },
  {
   "cell_type": "code",
   "execution_count": 7,
   "id": "7a7cb977",
   "metadata": {},
   "outputs": [
    {
     "name": "stdout",
     "output_type": "stream",
     "text": [
      "Resultados:\n",
      "              precision    recall  f1-score   support\n",
      "\n",
      "     Benigno       0.92      0.93      0.92       108\n",
      "     Maligno       0.87      0.86      0.86        63\n",
      "\n",
      "    accuracy                           0.90       171\n",
      "   macro avg       0.89      0.89      0.89       171\n",
      "weighted avg       0.90      0.90      0.90       171\n",
      "\n",
      "ROC: 0.8915343915343915\n",
      "Acurácia : 0.9005847953216374\n",
      "Precisão : 0.7991753577492118\n",
      "Recall : 0.8571428571428571\n",
      "f1 : 0.864\n"
     ]
    },
    {
     "data": {
      "image/png": "[encoded data removed]",
      "text/plain": [
       "<Figure size 288x288 with 2 Axes>"
      ]
     },
     "metadata": {
      "needs_background": "light"
     },
     "output_type": "display_data"
    }
   ],
   "source": [
    "from sklearn.naive_bayes import GaussianNB\n",
    "\n",
    "gnb = GaussianNB().fit(X_train, y_train)\n",
    "\n",
    "resultados = evalu(gnb, X_test, y_test,'Naive Bayes', resultados)"
   ]
  },
  {
   "cell_type": "markdown",
   "id": "9da1f1d7",
   "metadata": {},
   "source": [
    "## KNN"
   ]
  },
  {
   "cell_type": "code",
   "execution_count": 8,
   "id": "4eb6dc76",
   "metadata": {},
   "outputs": [],
   "source": [
    "from sklearn.neighbors import KNeighborsClassifier"
   ]
  },
  {
   "cell_type": "code",
   "execution_count": 9,
   "id": "83afa9d1",
   "metadata": {},
   "outputs": [
    {
     "data": {
      "text/plain": [
       "KNeighborsClassifier(weights='distance')"
      ]
     },
     "execution_count": 9,
     "metadata": {},
     "output_type": "execute_result"
    }
   ],
   "source": [
    "E = KNeighborsClassifier()\n",
    "P = {'n_neighbors':[5,10,15,20,25,35,45,50,55,65,75],'weights':['uniform','distance']}\n",
    "k = model_selection.GridSearchCV(estimator=E,\n",
    "                                       param_grid=P,\n",
    "                                       scoring='recall',\n",
    "                                       n_jobs=-1).fit(X_train, y_train)\n",
    "k.best_estimator_"
   ]
  },
  {
   "cell_type": "code",
   "execution_count": 10,
   "id": "c408cf44",
   "metadata": {},
   "outputs": [
    {
     "name": "stdout",
     "output_type": "stream",
     "text": [
      "Resultados:\n",
      "              precision    recall  f1-score   support\n",
      "\n",
      "     Benigno       0.90      0.94      0.92       108\n",
      "     Maligno       0.90      0.83      0.86        63\n",
      "\n",
      "    accuracy                           0.90       171\n",
      "   macro avg       0.90      0.88      0.89       171\n",
      "weighted avg       0.90      0.90      0.90       171\n",
      "\n",
      "ROC: 0.8849206349206349\n",
      "Acurácia : 0.9005847953216374\n",
      "Precisão : 0.8043384322876156\n",
      "Recall : 0.8253968253968254\n",
      "f1 : 0.8595041322314049\n"
     ]
    },
    {
     "data": {
      "image/png": "[encoded data removed]",
      "text/plain": [
       "<Figure size 288x288 with 2 Axes>"
      ]
     },
     "metadata": {
      "needs_background": "light"
     },
     "output_type": "display_data"
    }
   ],
   "source": [
    "knn = KNeighborsClassifier(weights='distance').fit(X_train, y_train)\n",
    "\n",
    "resultados = evalu(knn, X_test, y_test,'KNN',resultados)"
   ]
  },
  {
   "cell_type": "markdown",
   "id": "ce887236",
   "metadata": {},
   "source": [
    "## Logistic Regression"
   ]
  },
  {
   "cell_type": "code",
   "execution_count": 11,
   "id": "61214af8",
   "metadata": {},
   "outputs": [
    {
     "name": "stdout",
     "output_type": "stream",
     "text": [
      "Resultados:\n",
      "              precision    recall  f1-score   support\n",
      "\n",
      "     Benigno       0.95      0.97      0.96       108\n",
      "     Maligno       0.95      0.90      0.93        63\n",
      "\n",
      "    accuracy                           0.95       171\n",
      "   macro avg       0.95      0.94      0.94       171\n",
      "weighted avg       0.95      0.95      0.95       171\n",
      "\n",
      "ROC: 0.9384920634920634\n",
      "Acurácia : 0.9473684210526315\n",
      "Precisão : 0.8946115288220551\n",
      "Recall : 0.9047619047619048\n",
      "f1 : 0.9268292682926829\n"
     ]
    },
    {
     "data": {
      "image/png": "[encoded data removed]",
      "text/plain": [
       "<Figure size 288x288 with 2 Axes>"
      ]
     },
     "metadata": {
      "needs_background": "light"
     },
     "output_type": "display_data"
    }
   ],
   "source": [
    "from sklearn.linear_model import LogisticRegression\n",
    "\n",
    "LR = LogisticRegression(C=7.702999999999999, multi_class='ovr', penalty='l1',\n",
    "                   solver='liblinear', tol=0.0033333334000000005).fit(X_train, y_train)\n",
    "\n",
    "resultados= evalu(LR, X_test, y_test,'Reg. Logistica',resultados)"
   ]
  },
  {
   "cell_type": "markdown",
   "id": "2f32df2d",
   "metadata": {},
   "source": [
    "## Arvore de Decisão"
   ]
  },
  {
   "cell_type": "code",
   "execution_count": 12,
   "id": "825e9a40",
   "metadata": {},
   "outputs": [
    {
     "name": "stdout",
     "output_type": "stream",
     "text": [
      "Resultados:\n",
      "              precision    recall  f1-score   support\n",
      "\n",
      "     Benigno       0.91      0.96      0.94       108\n",
      "     Maligno       0.93      0.84      0.88        63\n",
      "\n",
      "    accuracy                           0.92       171\n",
      "   macro avg       0.92      0.90      0.91       171\n",
      "weighted avg       0.92      0.92      0.92       171\n",
      "\n",
      "ROC: 0.9021164021164022\n",
      "Acurácia : 0.9181286549707602\n",
      "Precisão : 0.8407128933444723\n",
      "Recall : 0.8412698412698413\n",
      "f1 : 0.8833333333333334\n"
     ]
    },
    {
     "data": {
      "image/png": "[encoded data removed]",
      "text/plain": [
       "<Figure size 288x288 with 2 Axes>"
      ]
     },
     "metadata": {
      "needs_background": "light"
     },
     "output_type": "display_data"
    }
   ],
   "source": [
    "from sklearn.tree import DecisionTreeClassifier\n",
    "dtc = DecisionTreeClassifier(random_state=42, \n",
    "                             splitter='random' \n",
    "                             ).fit(X_train, y_train)\n",
    "\n",
    "resultados = evalu(dtc, X_test, y_test,'Arvore de Decisão',resultados)"
   ]
  },
  {
   "cell_type": "markdown",
   "id": "83f2e807",
   "metadata": {},
   "source": [
    "## Random Forest"
   ]
  },
  {
   "cell_type": "code",
   "execution_count": 13,
   "id": "3c75eb1b",
   "metadata": {},
   "outputs": [
    {
     "name": "stdout",
     "output_type": "stream",
     "text": [
      "Resultados:\n",
      "              precision    recall  f1-score   support\n",
      "\n",
      "     Benigno       0.96      0.94      0.95       108\n",
      "     Maligno       0.89      0.94      0.91        63\n",
      "\n",
      "    accuracy                           0.94       171\n",
      "   macro avg       0.93      0.94      0.93       171\n",
      "weighted avg       0.94      0.94      0.94       171\n",
      "\n",
      "ROC: 0.9358465608465609\n",
      "Acurácia : 0.935672514619883\n",
      "Precisão : 0.8605731500468342\n",
      "Recall : 0.9365079365079365\n",
      "f1 : 0.9147286821705426\n"
     ]
    },
    {
     "data": {
      "image/png": "[encoded data removed]",
      "text/plain": [
       "<Figure size 288x288 with 2 Axes>"
      ]
     },
     "metadata": {
      "needs_background": "light"
     },
     "output_type": "display_data"
    }
   ],
   "source": [
    "from sklearn.ensemble import RandomForestClassifier\n",
    "rf = RandomForestClassifier(criterion='entropy', max_depth=6, n_estimators=200,\n",
    "                       random_state=42).fit(X_train, y_train)\n",
    "\n",
    "\n",
    "resultados = evalu(rf, X_test, y_test, 'Random Forest', resultados)"
   ]
  },
  {
   "cell_type": "markdown",
   "id": "964ef3a5",
   "metadata": {},
   "source": [
    "## SGDC Classifier"
   ]
  },
  {
   "cell_type": "code",
   "execution_count": 14,
   "id": "9af4243c",
   "metadata": {},
   "outputs": [
    {
     "name": "stderr",
     "output_type": "stream",
     "text": [
      "C:\\Users\\carlo\\anaconda3\\lib\\site-packages\\sklearn\\linear_model\\_stochastic_gradient.py:574: ConvergenceWarning: Maximum number of iteration reached before convergence. Consider increasing max_iter to improve the fit.\n",
      "  warnings.warn(\"Maximum number of iteration reached before \"\n"
     ]
    },
    {
     "name": "stdout",
     "output_type": "stream",
     "text": [
      "Resultados:\n",
      "              precision    recall  f1-score   support\n",
      "\n",
      "     Benigno       0.90      0.84      0.87       108\n",
      "     Maligno       0.76      0.84      0.80        63\n",
      "\n",
      "    accuracy                           0.84       171\n",
      "   macro avg       0.83      0.84      0.83       171\n",
      "weighted avg       0.85      0.84      0.84       171\n",
      "\n",
      "ROC: 0.8419312169312169\n",
      "Acurácia : 0.8421052631578947\n",
      "Precisão : 0.6954409834109082\n",
      "Recall : 0.8412698412698413\n",
      "f1 : 0.7969924812030075\n"
     ]
    },
    {
     "data": {
      "image/png": "[encoded data removed]",
      "text/plain": [
       "<Figure size 288x288 with 2 Axes>"
      ]
     },
     "metadata": {
      "needs_background": "light"
     },
     "output_type": "display_data"
    }
   ],
   "source": [
    "from sklearn.linear_model import SGDClassifier\n",
    "sgdc = SGDClassifier(alpha=1, loss='squared_hinge', max_iter=20, penalty='l1').fit(X_train, y_train)\n",
    "\n",
    "resultados = evalu(sgdc, X_test, y_test,'SGDC',resultados)"
   ]
  },
  {
   "cell_type": "markdown",
   "id": "1f0f75d8",
   "metadata": {},
   "source": [
    "## Testando algo diferente...\n",
    "\n",
    "Aqui, vamos testar algumas ideias e utilizar os modelos de Naive Bayes (porque é simples) e Random Forest (porque foi a que teve o melhor desempenho associando acurácia e recall) para ver se elas são mais eficientes que os modelos que temos até agora.\n",
    "\n",
    "### Ideia 1\n",
    "\n",
    "Raio, Area e Perimetro são altamente correlacionados, como eu disse no primeiro trabalho, acho que Area e Perimetro são derivados do Raio, então vou testar alguns modelos sem essas variavéis."
   ]
  },
  {
   "cell_type": "code",
   "execution_count": 15,
   "id": "4a5a3cbf",
   "metadata": {},
   "outputs": [],
   "source": [
    "df3 = df2.drop(['perimeter_mean','area_mean'],axis=1)\n",
    "X_train1, X_test1, y_train1, y_test1 = model_selection.train_test_split(df3.iloc[:,2:], \n",
    "                                                                        df3.iloc[:,1],\n",
    "                                                                        test_size=0.3, \n",
    "                                                                        random_state=0)\n"
   ]
  },
  {
   "cell_type": "code",
   "execution_count": 16,
   "id": "a8fb96c1",
   "metadata": {},
   "outputs": [
    {
     "name": "stdout",
     "output_type": "stream",
     "text": [
      "Resultados:\n",
      "              precision    recall  f1-score   support\n",
      "\n",
      "     Benigno       0.92      0.90      0.91       108\n",
      "     Maligno       0.83      0.87      0.85        63\n",
      "\n",
      "    accuracy                           0.89       171\n",
      "   macro avg       0.88      0.89      0.88       171\n",
      "weighted avg       0.89      0.89      0.89       171\n",
      "\n",
      "ROC: 0.8855820105820106\n",
      "Acurácia : 0.8888888888888888\n",
      "Precisão : 0.7742968532442217\n",
      "Recall : 0.873015873015873\n",
      "f1 : 0.8527131782945736\n"
     ]
    },
    {
     "data": {
      "image/png": "[encoded data removed]",
      "text/plain": [
       "<Figure size 288x288 with 2 Axes>"
      ]
     },
     "metadata": {
      "needs_background": "light"
     },
     "output_type": "display_data"
    }
   ],
   "source": [
    "gnb1 = GaussianNB().fit(X_train1, y_train1)\n",
    "\n",
    "resultados = evalu(gnb1, X_test1, y_test1,'NB - 1', resultados)"
   ]
  },
  {
   "cell_type": "code",
   "execution_count": 17,
   "id": "b24eb24e",
   "metadata": {},
   "outputs": [
    {
     "name": "stdout",
     "output_type": "stream",
     "text": [
      "Resultados:\n",
      "              precision    recall  f1-score   support\n",
      "\n",
      "     Benigno       0.94      0.94      0.94       108\n",
      "     Maligno       0.90      0.89      0.90        63\n",
      "\n",
      "    accuracy                           0.92       171\n",
      "   macro avg       0.92      0.92      0.92       171\n",
      "weighted avg       0.92      0.92      0.92       171\n",
      "\n",
      "ROC: 0.9166666666666666\n",
      "Acurácia : 0.9239766081871345\n",
      "Precisão : 0.8438030560271647\n",
      "Recall : 0.8888888888888888\n",
      "f1 : 0.8959999999999999\n"
     ]
    },
    {
     "data": {
      "image/png": "[encoded data removed]",
      "text/plain": [
       "<Figure size 288x288 with 2 Axes>"
      ]
     },
     "metadata": {
      "needs_background": "light"
     },
     "output_type": "display_data"
    }
   ],
   "source": [
    "rf1 = RandomForestClassifier(max_depth=5, n_estimators=500, random_state=42).fit(X_train1, y_train1)\n",
    "\n",
    "resultados = evalu(rf1, X_test1, y_test1,'RF - 1',resultados)"
   ]
  },
  {
   "cell_type": "markdown",
   "id": "b70e0bee",
   "metadata": {},
   "source": [
    "### Ideia 2\n",
    "E se em vez de tirar os correlacionados entre si, retirar os que tem menor correlação com a resposta. Nessa hipotese, eu retirei as variaveis que tinha uma correlação menor que 0.4 com a variavel a ser predita.\n"
   ]
  },
  {
   "cell_type": "code",
   "execution_count": 18,
   "id": "7c67bfb3",
   "metadata": {},
   "outputs": [],
   "source": [
    "df4 = df2.drop(['fractal_dimension_mean','symmetry_mean','smoothness_mean'],axis=1)\n",
    "X_train2, X_test2, y_train2, y_test2 = model_selection.train_test_split(df4.iloc[:,2:], df4.iloc[:,1],\n",
    "                                                                        test_size=0.3, random_state=0)"
   ]
  },
  {
   "cell_type": "code",
   "execution_count": 19,
   "id": "789001de",
   "metadata": {},
   "outputs": [
    {
     "name": "stdout",
     "output_type": "stream",
     "text": [
      "Resultados:\n",
      "              precision    recall  f1-score   support\n",
      "\n",
      "     Benigno       0.92      0.93      0.92       108\n",
      "     Maligno       0.87      0.86      0.86        63\n",
      "\n",
      "    accuracy                           0.90       171\n",
      "   macro avg       0.89      0.89      0.89       171\n",
      "weighted avg       0.90      0.90      0.90       171\n",
      "\n",
      "ROC: 0.8915343915343915\n",
      "Acurácia : 0.9005847953216374\n",
      "Precisão : 0.7991753577492118\n",
      "Recall : 0.8571428571428571\n",
      "f1 : 0.864\n"
     ]
    },
    {
     "data": {
      "image/png": "[encoded data removed]",
      "text/plain": [
       "<Figure size 288x288 with 2 Axes>"
      ]
     },
     "metadata": {
      "needs_background": "light"
     },
     "output_type": "display_data"
    }
   ],
   "source": [
    "gnb2 = GaussianNB().fit(X_train2, y_train2)\n",
    "\n",
    "resultados = evalu(gnb2, X_test2, y_test2,'NB - 2', resultados)"
   ]
  },
  {
   "cell_type": "code",
   "execution_count": 20,
   "id": "60ee9806",
   "metadata": {},
   "outputs": [
    {
     "name": "stdout",
     "output_type": "stream",
     "text": [
      "Resultados:\n",
      "              precision    recall  f1-score   support\n",
      "\n",
      "     Benigno       0.96      0.94      0.95       108\n",
      "     Maligno       0.89      0.94      0.91        63\n",
      "\n",
      "    accuracy                           0.94       171\n",
      "   macro avg       0.93      0.94      0.93       171\n",
      "weighted avg       0.94      0.94      0.94       171\n",
      "\n",
      "ROC: 0.9358465608465609\n",
      "Acurácia : 0.935672514619883\n",
      "Precisão : 0.8605731500468342\n",
      "Recall : 0.9365079365079365\n",
      "f1 : 0.9147286821705426\n"
     ]
    },
    {
     "data": {
      "image/png": "[encoded data removed]",
      "text/plain": [
       "<Figure size 288x288 with 2 Axes>"
      ]
     },
     "metadata": {
      "needs_background": "light"
     },
     "output_type": "display_data"
    }
   ],
   "source": [
    "rf2 = RandomForestClassifier(max_depth=4, n_estimators=500, random_state=42).fit(X_train2, y_train2)\n",
    "\n",
    "resultados = evalu(rf2, X_test2, y_test2,'RF - 2',resultados)"
   ]
  },
  {
   "cell_type": "markdown",
   "id": "f7897ab0",
   "metadata": {},
   "source": [
    "### Ideia 3\n",
    "\n",
    "E se juntar a Ideia 1 com a Ideia 2"
   ]
  },
  {
   "cell_type": "code",
   "execution_count": 21,
   "id": "8c05f849",
   "metadata": {},
   "outputs": [],
   "source": [
    "df5 = df2.drop(['perimeter_mean','area_mean','fractal_dimension_mean','symmetry_mean','smoothness_mean'],axis=1)\n",
    "X_train3, X_test3, y_train3, y_test3 = model_selection.train_test_split(df5.iloc[:,2:], df5.iloc[:,1],\n",
    "                                                                        test_size=0.3, random_state=0)"
   ]
  },
  {
   "cell_type": "code",
   "execution_count": 22,
   "id": "2b9905a5",
   "metadata": {},
   "outputs": [
    {
     "name": "stdout",
     "output_type": "stream",
     "text": [
      "Resultados:\n",
      "              precision    recall  f1-score   support\n",
      "\n",
      "     Benigno       0.93      0.93      0.93       108\n",
      "     Maligno       0.87      0.87      0.87        63\n",
      "\n",
      "    accuracy                           0.91       171\n",
      "   macro avg       0.90      0.90      0.90       171\n",
      "weighted avg       0.91      0.91      0.91       171\n",
      "\n",
      "ROC: 0.8994708994708994\n",
      "Acurácia : 0.9064327485380117\n",
      "Precisão : 0.8089403402686611\n",
      "Recall : 0.873015873015873\n",
      "f1 : 0.8730158730158731\n"
     ]
    },
    {
     "data": {
      "image/png": "[encoded data removed]",
      "text/plain": [
       "<Figure size 288x288 with 2 Axes>"
      ]
     },
     "metadata": {
      "needs_background": "light"
     },
     "output_type": "display_data"
    }
   ],
   "source": [
    "gnb3 = GaussianNB().fit(X_train3, y_train3)\n",
    "\n",
    "resultados = evalu(gnb3, X_test3, y_test3,'NB - 3', resultados)"
   ]
  },
  {
   "cell_type": "code",
   "execution_count": 23,
   "id": "54cb1b0e",
   "metadata": {},
   "outputs": [
    {
     "name": "stdout",
     "output_type": "stream",
     "text": [
      "Resultados:\n",
      "              precision    recall  f1-score   support\n",
      "\n",
      "     Benigno       0.94      0.94      0.94       108\n",
      "     Maligno       0.89      0.90      0.90        63\n",
      "\n",
      "    accuracy                           0.92       171\n",
      "   macro avg       0.92      0.92      0.92       171\n",
      "weighted avg       0.92      0.92      0.92       171\n",
      "\n",
      "ROC: 0.919973544973545\n",
      "Acurácia : 0.9239766081871345\n",
      "Precisão : 0.840891290726817\n",
      "Recall : 0.9047619047619048\n",
      "f1 : 0.8976377952755906\n"
     ]
    },
    {
     "data": {
      "image/png": "[encoded data removed]",
      "text/plain": [
       "<Figure size 288x288 with 2 Axes>"
      ]
     },
     "metadata": {
      "needs_background": "light"
     },
     "output_type": "display_data"
    }
   ],
   "source": [
    "rf3 = RandomForestClassifier(max_depth=4, n_estimators=500, random_state=42).fit(X_train3, y_train3)\n",
    "\n",
    "resultados = evalu(rf3, X_test3, y_test3,'RF - 3',resultados)"
   ]
  },
  {
   "cell_type": "code",
   "execution_count": 24,
   "id": "38b72821",
   "metadata": {},
   "outputs": [
    {
     "data": {
      "text/html": [
       "<div>\n",
       "<style scoped>\n",
       "    .dataframe tbody tr th:only-of-type {\n",
       "        vertical-align: middle;\n",
       "    }\n",
       "\n",
       "    .dataframe tbody tr th {\n",
       "        vertical-align: top;\n",
       "    }\n",
       "\n",
       "    .dataframe thead th {\n",
       "        text-align: right;\n",
       "    }\n",
       "</style>\n",
       "<table border=\"1\" class=\"dataframe\">\n",
       "  <thead>\n",
       "    <tr style=\"text-align: right;\">\n",
       "      <th></th>\n",
       "      <th>modelo</th>\n",
       "      <th>acuracia</th>\n",
       "      <th>recall</th>\n",
       "    </tr>\n",
       "  </thead>\n",
       "  <tbody>\n",
       "    <tr>\n",
       "      <th>0</th>\n",
       "      <td>Naive Bayes</td>\n",
       "      <td>0.900585</td>\n",
       "      <td>0.857143</td>\n",
       "    </tr>\n",
       "    <tr>\n",
       "      <th>1</th>\n",
       "      <td>KNN</td>\n",
       "      <td>0.900585</td>\n",
       "      <td>0.825397</td>\n",
       "    </tr>\n",
       "    <tr>\n",
       "      <th>2</th>\n",
       "      <td>Reg. Logistica</td>\n",
       "      <td>0.947368</td>\n",
       "      <td>0.904762</td>\n",
       "    </tr>\n",
       "    <tr>\n",
       "      <th>3</th>\n",
       "      <td>Arvore de Decisão</td>\n",
       "      <td>0.918129</td>\n",
       "      <td>0.841270</td>\n",
       "    </tr>\n",
       "    <tr>\n",
       "      <th>4</th>\n",
       "      <td>Random Forest</td>\n",
       "      <td>0.935673</td>\n",
       "      <td>0.936508</td>\n",
       "    </tr>\n",
       "    <tr>\n",
       "      <th>5</th>\n",
       "      <td>SGDC</td>\n",
       "      <td>0.842105</td>\n",
       "      <td>0.841270</td>\n",
       "    </tr>\n",
       "    <tr>\n",
       "      <th>6</th>\n",
       "      <td>NB - 1</td>\n",
       "      <td>0.888889</td>\n",
       "      <td>0.873016</td>\n",
       "    </tr>\n",
       "    <tr>\n",
       "      <th>7</th>\n",
       "      <td>RF - 1</td>\n",
       "      <td>0.923977</td>\n",
       "      <td>0.888889</td>\n",
       "    </tr>\n",
       "    <tr>\n",
       "      <th>8</th>\n",
       "      <td>NB - 2</td>\n",
       "      <td>0.900585</td>\n",
       "      <td>0.857143</td>\n",
       "    </tr>\n",
       "    <tr>\n",
       "      <th>9</th>\n",
       "      <td>RF - 2</td>\n",
       "      <td>0.935673</td>\n",
       "      <td>0.936508</td>\n",
       "    </tr>\n",
       "    <tr>\n",
       "      <th>10</th>\n",
       "      <td>NB - 3</td>\n",
       "      <td>0.906433</td>\n",
       "      <td>0.873016</td>\n",
       "    </tr>\n",
       "    <tr>\n",
       "      <th>11</th>\n",
       "      <td>RF - 3</td>\n",
       "      <td>0.923977</td>\n",
       "      <td>0.904762</td>\n",
       "    </tr>\n",
       "  </tbody>\n",
       "</table>\n",
       "</div>"
      ],
      "text/plain": [
       "               modelo  acuracia    recall\n",
       "0         Naive Bayes  0.900585  0.857143\n",
       "1                 KNN  0.900585  0.825397\n",
       "2      Reg. Logistica  0.947368  0.904762\n",
       "3   Arvore de Decisão  0.918129  0.841270\n",
       "4       Random Forest  0.935673  0.936508\n",
       "5                SGDC  0.842105  0.841270\n",
       "6              NB - 1  0.888889  0.873016\n",
       "7              RF - 1  0.923977  0.888889\n",
       "8              NB - 2  0.900585  0.857143\n",
       "9              RF - 2  0.935673  0.936508\n",
       "10             NB - 3  0.906433  0.873016\n",
       "11             RF - 3  0.923977  0.904762"
      ]
     },
     "execution_count": 24,
     "metadata": {},
     "output_type": "execute_result"
    }
   ],
   "source": [
    "resultados"
   ]
  },
  {
   "cell_type": "markdown",
   "id": "c7c6e03a",
   "metadata": {},
   "source": [
    "## Conclusão\n",
    "\n",
    "Acredito que os modelos foram satisfatórios, e eu diria que a Random Forest, foi o modelo que melhor previu os dados. Isso porque mesmo não tendo a melhor acurácia, teve o melhor recall e teve uma acurácia muito próxima do modelo que teve a maior.\n",
    "\n",
    "Além disso, eu queria resaltar um importante ponto, o modelo deu certo tem uma taxa de acerto bem grande ao predizer se o tumor é maligno ou benigno, porém ele é inútil para pessoas \"normais\", para ele funcionar relativamente bem, as pessoas que vão sofrer a avaliação do modelo tem estar minimamente padronizadas com os dados que foram dados para modelar a questão. Como os dados são de exames de cancer de mama com pessoas que já tem o cancer diagnosticado, não é conveniente chegar e em pessoas que não estão sentido nada e fazer um teste com elas, o modelo com certeza perderia a eficiencia, pois os pre reqisitos na hora de colher os dados não estaram sendo compridos.\n",
    "\n",
    "### Outros:\n",
    "Estão no [GITHUB](https://github.com/CarCesar/ML/tree/main/A2):\n",
    "+ O arquivo funcoes contem as funções que foram usadas para avaliar o modelo.\n",
    "+ O notebook com todos os passos, (aqui eu resumi um pouco de código para não poluir tanto)"
   ]
  },
  {
   "cell_type": "code",
   "execution_count": 25,
   "id": "88e70b1b",
   "metadata": {},
   "outputs": [],
   "source": [
    "#FIM"
   ]
  }
 ],
 "metadata": {
  "kernelspec": {
   "display_name": "Python 3",
   "language": "python",
   "name": "python3"
  },
  "language_info": {
   "codemirror_mode": {
    "name": "ipython",
    "version": 3
   },
   "file_extension": ".py",
   "mimetype": "text/x-python",
   "name": "python",
   "nbconvert_exporter": "python",
   "pygments_lexer": "ipython3",
   "version": "3.8.8"
  }
 },
 "nbformat": 4,
 "nbformat_minor": 5
}
